{
 "cells": [
  {
   "cell_type": "code",
   "execution_count": 71,
   "id": "11c61e9a",
   "metadata": {},
   "outputs": [],
   "source": [
    "import pandas as pd\n",
    "import matplotlib.pyplot as plt\n",
    "from math import pow"
   ]
  },
  {
   "cell_type": "markdown",
   "id": "c262c57f",
   "metadata": {},
   "source": [
    "## Объявление статичных данных и списка мемоизации"
   ]
  },
  {
   "cell_type": "code",
   "execution_count": 72,
   "id": "3f4bd718",
   "metadata": {},
   "outputs": [],
   "source": [
    "global ki, c, T_out, u, W_mem\n",
    "\n",
    "# коэффициент скользящего среднего (распределение важности составляющих цф)\n",
    "a = 0.5\n",
    "\n",
    "# присутствие пользователя дома. (0 - отсутсвует, 1 - присутствует)\n",
    "ki = [1, 1, 1, 1, 1, 1, 1, 0, 0, 0, 0, 0]\n",
    "\n",
    "# словарь стоимостей режимов. (ключ - кол-во энергии выделяемой режимом отопления, значение - стоимость режима)\n",
    "c = {0: 0, 2: 12, 4: 25, 6: 43, 8: 62, 10: 83}\n",
    "\n",
    "# температура снаружи\n",
    "T_out = [-18, -20, -20, -22, -22, -24, -24, -26, -26, -28, -28, -30]\n",
    "\n",
    "# начальная температура\n",
    "T_start = 19\n",
    "\n",
    "# комфортная температура\n",
    "T_comf = 22\n",
    "\n",
    "# кол-во энергии выделяемой режимом отопления\n",
    "u = [0, 2, 4, 6, 8, 10]\n",
    "\n",
    "# список словарей для мемоизации. (сохранения для каждого этапа лучшего состояния)\n",
    "W_mem = [{} for i in ki]\n",
    "\n"
   ]
  },
  {
   "cell_type": "markdown",
   "id": "0a9822b7",
   "metadata": {},
   "source": [
    "## Функция выигрыша (дискомфорт + стоимость)"
   ]
  },
  {
   "cell_type": "code",
   "execution_count": 73,
   "id": "1d129ecf",
   "metadata": {},
   "outputs": [],
   "source": [
    "def w(a, ki, T_cur, c):\n",
    "    return ki * a * pow(T_comf - T_cur, 2) + (1 - a) * c"
   ]
  },
  {
   "cell_type": "markdown",
   "id": "cf4bc3cb",
   "metadata": {},
   "source": [
    "## Функция изменения состояния (температуры)"
   ]
  },
  {
   "cell_type": "code",
   "execution_count": 74,
   "id": "c1fe9413",
   "metadata": {},
   "outputs": [],
   "source": [
    "def phi(u_cur, T_cur, T_out):\n",
    "    return T_cur + 0.5 * (u_cur - 0.2 * (T_cur - T_out))"
   ]
  },
  {
   "cell_type": "markdown",
   "id": "b5dbdee0",
   "metadata": {},
   "source": [
    "## Рекурсивная функция определяющая оптимальное решения для конкретного этапа и состояния"
   ]
  },
  {
   "cell_type": "code",
   "execution_count": 75,
   "id": "a882dfa3",
   "metadata": {},
   "outputs": [],
   "source": [
    "def W(stage, state, a):\n",
    "    # проверка была ли вычислена до этого функция для текущего этапа\n",
    "    if state in W_mem[stage]:\n",
    "        return W_mem[stage][state]\n",
    "\n",
    "    w_best = None\n",
    "    u_best = None\n",
    "    for ui in u:\n",
    "        # условный оптимальный выигрыш для последнего этапа\n",
    "        if stage == 11:\n",
    "            t_last = round(phi(ui, state, T_out[stage]), 1)\n",
    "            wi = round(w(a, ki[stage], t_last, c[ui]), 2)\n",
    "\n",
    "        else:\n",
    "            wi = round(w(a, ki[stage], state, c[ui]) + W(stage + 1, round(phi(ui, state, T_out[stage]), 1), a)[0], 2)\n",
    "\n",
    "        if w_best is None or wi < w_best:\n",
    "            w_best = wi\n",
    "            u_best = ui\n",
    "\n",
    "    # Мемоизация\n",
    "    W_mem[stage][state] = (w_best, u_best)\n",
    "    return (w_best, u_best)"
   ]
  },
  {
   "cell_type": "markdown",
   "id": "70f5a4f1",
   "metadata": {},
   "source": [
    "## Функция поиска оптимального решения для каждого этапа"
   ]
  },
  {
   "cell_type": "code",
   "execution_count": 76,
   "id": "af73a005",
   "metadata": {},
   "outputs": [],
   "source": [
    "def get_solve(a):\n",
    "    # Массивы режимов работы и значений температуры на каждом этапе\n",
    "    modes, temp = [], []\n",
    "\n",
    "    # Начальная температура\n",
    "    state = T_start\n",
    "    \n",
    "    for stage in range(len(ki)):\n",
    "        temp.append(state)\n",
    "        u = W(stage, state, a)[1]\n",
    "        modes.append(u)\n",
    "        state = round(phi(u, state, T_out[stage]), 1)\n",
    "        \n",
    "    return (W(0, T_start, a)[0], modes, temp, state)"
   ]
  },
  {
   "cell_type": "markdown",
   "id": "0faf6e44",
   "metadata": {},
   "source": [
    "## Поиск и вывод оптимального решения"
   ]
  },
  {
   "cell_type": "code",
   "execution_count": 77,
   "id": "03c13307",
   "metadata": {},
   "outputs": [
    {
     "data": {
      "text/html": [
       "<div>\n",
       "<style scoped>\n",
       "    .dataframe tbody tr th:only-of-type {\n",
       "        vertical-align: middle;\n",
       "    }\n",
       "\n",
       "    .dataframe tbody tr th {\n",
       "        vertical-align: top;\n",
       "    }\n",
       "\n",
       "    .dataframe thead tr th {\n",
       "        text-align: left;\n",
       "    }\n",
       "</style>\n",
       "<table border=\"1\" class=\"dataframe\">\n",
       "  <thead>\n",
       "    <tr>\n",
       "      <th></th>\n",
       "      <th>1</th>\n",
       "      <th>2</th>\n",
       "      <th>3</th>\n",
       "      <th>4</th>\n",
       "      <th>5</th>\n",
       "      <th>6</th>\n",
       "      <th>7</th>\n",
       "      <th>8</th>\n",
       "      <th>9</th>\n",
       "      <th>10</th>\n",
       "      <th>11</th>\n",
       "      <th>12</th>\n",
       "    </tr>\n",
       "  </thead>\n",
       "  <tbody>\n",
       "    <tr>\n",
       "      <th>Присутств</th>\n",
       "      <td>1</td>\n",
       "      <td>1.0</td>\n",
       "      <td>1.0</td>\n",
       "      <td>1.0</td>\n",
       "      <td>1.0</td>\n",
       "      <td>1.0</td>\n",
       "      <td>1.0</td>\n",
       "      <td>0.0</td>\n",
       "      <td>0.0</td>\n",
       "      <td>0.0</td>\n",
       "      <td>0.0</td>\n",
       "      <td>0.0</td>\n",
       "    </tr>\n",
       "    <tr>\n",
       "      <th>Режим работы</th>\n",
       "      <td>10</td>\n",
       "      <td>8.0</td>\n",
       "      <td>8.0</td>\n",
       "      <td>8.0</td>\n",
       "      <td>6.0</td>\n",
       "      <td>2.0</td>\n",
       "      <td>0.0</td>\n",
       "      <td>0.0</td>\n",
       "      <td>0.0</td>\n",
       "      <td>0.0</td>\n",
       "      <td>0.0</td>\n",
       "      <td>0.0</td>\n",
       "    </tr>\n",
       "    <tr>\n",
       "      <th>Температура</th>\n",
       "      <td>19</td>\n",
       "      <td>20.3</td>\n",
       "      <td>20.3</td>\n",
       "      <td>20.3</td>\n",
       "      <td>20.1</td>\n",
       "      <td>18.9</td>\n",
       "      <td>15.6</td>\n",
       "      <td>11.6</td>\n",
       "      <td>7.8</td>\n",
       "      <td>4.4</td>\n",
       "      <td>1.2</td>\n",
       "      <td>-1.7</td>\n",
       "    </tr>\n",
       "  </tbody>\n",
       "</table>\n",
       "</div>"
      ],
      "text/plain": [
       "              1     2     3     4     5     6     7     8    9    10   11   12\n",
       "Присутств      1   1.0   1.0   1.0   1.0   1.0   1.0   0.0  0.0  0.0  0.0  0.0\n",
       "Режим работы  10   8.0   8.0   8.0   6.0   2.0   0.0   0.0  0.0  0.0  0.0  0.0\n",
       "Температура   19  20.3  20.3  20.3  20.1  18.9  15.6  11.6  7.8  4.4  1.2 -1.7"
      ]
     },
     "execution_count": 77,
     "metadata": {},
     "output_type": "execute_result"
    }
   ],
   "source": [
    "W_best, U, T, T_last = get_solve(a)\n",
    "data = [ki, U, T]\n",
    "df = pd.DataFrame(data, index=['Присутств', 'Режим работы', 'Температура'], columns=[list(range(1, 13))])\n",
    "df"
   ]
  },
  {
   "cell_type": "code",
   "execution_count": 78,
   "id": "f777afa2",
   "metadata": {},
   "outputs": [
    {
     "name": "stdout",
     "output_type": "stream",
     "text": [
      "Коэфициент распределения важности между дискомфортом и стоимостью: 0.5\n",
      "Значение целевой функции: 197.91\n",
      "Стоимость отопления: 324\n",
      "Температура в конце последнего этапа (после 12 часов): -4.5\n"
     ]
    }
   ],
   "source": [
    "price = sum(map(lambda x: c[x], U))\n",
    "print(\"Коэфициент распределения важности между дискомфортом и стоимостью:\", a)\n",
    "print(\"Значение целевой функции:\", W_best)\n",
    "print(\"Стоимость отопления:\", price)\n",
    "print(\"Температура в конце последнего этапа (после 12 часов):\", T_last)"
   ]
  },
  {
   "cell_type": "markdown",
   "id": "103ebcea",
   "metadata": {},
   "source": [
    "## Анализ чувствительности:"
   ]
  },
  {
   "cell_type": "markdown",
   "id": "6612d593",
   "metadata": {},
   "source": [
    "### Посмотрим оптимальное решение при предпочтении дискомфорта."
   ]
  },
  {
   "cell_type": "code",
   "execution_count": 79,
   "id": "d89e2873",
   "metadata": {},
   "outputs": [
    {
     "data": {
      "text/html": [
       "<div>\n",
       "<style scoped>\n",
       "    .dataframe tbody tr th:only-of-type {\n",
       "        vertical-align: middle;\n",
       "    }\n",
       "\n",
       "    .dataframe tbody tr th {\n",
       "        vertical-align: top;\n",
       "    }\n",
       "\n",
       "    .dataframe thead tr th {\n",
       "        text-align: left;\n",
       "    }\n",
       "</style>\n",
       "<table border=\"1\" class=\"dataframe\">\n",
       "  <thead>\n",
       "    <tr>\n",
       "      <th></th>\n",
       "      <th>1</th>\n",
       "      <th>2</th>\n",
       "      <th>3</th>\n",
       "      <th>4</th>\n",
       "      <th>5</th>\n",
       "      <th>6</th>\n",
       "      <th>7</th>\n",
       "      <th>8</th>\n",
       "      <th>9</th>\n",
       "      <th>10</th>\n",
       "      <th>11</th>\n",
       "      <th>12</th>\n",
       "    </tr>\n",
       "  </thead>\n",
       "  <tbody>\n",
       "    <tr>\n",
       "      <th>Присутств</th>\n",
       "      <td>1</td>\n",
       "      <td>1.0</td>\n",
       "      <td>1.0</td>\n",
       "      <td>1.0</td>\n",
       "      <td>1.0</td>\n",
       "      <td>1.0</td>\n",
       "      <td>1.0</td>\n",
       "      <td>0.0</td>\n",
       "      <td>0.0</td>\n",
       "      <td>0.0</td>\n",
       "      <td>0.0</td>\n",
       "      <td>0.0</td>\n",
       "    </tr>\n",
       "    <tr>\n",
       "      <th>Режим работы</th>\n",
       "      <td>10</td>\n",
       "      <td>10.0</td>\n",
       "      <td>10.0</td>\n",
       "      <td>8.0</td>\n",
       "      <td>8.0</td>\n",
       "      <td>6.0</td>\n",
       "      <td>0.0</td>\n",
       "      <td>0.0</td>\n",
       "      <td>0.0</td>\n",
       "      <td>0.0</td>\n",
       "      <td>0.0</td>\n",
       "      <td>0.0</td>\n",
       "    </tr>\n",
       "    <tr>\n",
       "      <th>Температура</th>\n",
       "      <td>19</td>\n",
       "      <td>20.3</td>\n",
       "      <td>21.3</td>\n",
       "      <td>22.2</td>\n",
       "      <td>21.8</td>\n",
       "      <td>21.4</td>\n",
       "      <td>19.9</td>\n",
       "      <td>15.5</td>\n",
       "      <td>11.3</td>\n",
       "      <td>7.6</td>\n",
       "      <td>4.0</td>\n",
       "      <td>0.8</td>\n",
       "    </tr>\n",
       "  </tbody>\n",
       "</table>\n",
       "</div>"
      ],
      "text/plain": [
       "              1     2     3     4     5     6     7     8     9    10   11  \\\n",
       "Присутств      1   1.0   1.0   1.0   1.0   1.0   1.0   0.0   0.0  0.0  0.0   \n",
       "Режим работы  10  10.0  10.0   8.0   8.0   6.0   0.0   0.0   0.0  0.0  0.0   \n",
       "Температура   19  20.3  21.3  22.2  21.8  21.4  19.9  15.5  11.3  7.6  4.0   \n",
       "\n",
       "               12  \n",
       "Присутств     0.0  \n",
       "Режим работы  0.0  \n",
       "Температура   0.8  "
      ]
     },
     "execution_count": 79,
     "metadata": {},
     "output_type": "execute_result"
    }
   ],
   "source": [
    "a = 0.8\n",
    "W_mem = [{} for i in ki]\n",
    "W_best, U, T, T_last = get_solve(a)\n",
    "data = [ki, U, T]\n",
    "df = pd.DataFrame(data, index=['Присутств', 'Режим работы', 'Температура'], columns=[list(range(1, 13))])\n",
    "df"
   ]
  },
  {
   "cell_type": "code",
   "execution_count": 80,
   "id": "c42ce141",
   "metadata": {},
   "outputs": [
    {
     "name": "stdout",
     "output_type": "stream",
     "text": [
      "Коэфициент распределения важности между дискомфортом и стоимостью: 0.8\n",
      "Значение целевой функции: 96.98\n",
      "Стоимость отопления: 416\n",
      "Температура в конце последнего этапа (после 12 часов): -2.3\n"
     ]
    }
   ],
   "source": [
    "price = sum(map(lambda x: c[x], U))\n",
    "print(\"Коэфициент распределения важности между дискомфортом и стоимостью:\", a)\n",
    "print(\"Значение целевой функции:\", W_best)\n",
    "print(\"Стоимость отопления:\", price)\n",
    "print(\"Температура в конце последнего этапа (после 12 часов):\", T_last)"
   ]
  },
  {
   "cell_type": "markdown",
   "id": "5788cf97",
   "metadata": {},
   "source": [
    "### Посмотрим оптимальное решение при предпочтении стоимости."
   ]
  },
  {
   "cell_type": "code",
   "execution_count": 81,
   "id": "8e57e70f",
   "metadata": {},
   "outputs": [
    {
     "data": {
      "text/html": [
       "<div>\n",
       "<style scoped>\n",
       "    .dataframe tbody tr th:only-of-type {\n",
       "        vertical-align: middle;\n",
       "    }\n",
       "\n",
       "    .dataframe tbody tr th {\n",
       "        vertical-align: top;\n",
       "    }\n",
       "\n",
       "    .dataframe thead tr th {\n",
       "        text-align: left;\n",
       "    }\n",
       "</style>\n",
       "<table border=\"1\" class=\"dataframe\">\n",
       "  <thead>\n",
       "    <tr>\n",
       "      <th></th>\n",
       "      <th>1</th>\n",
       "      <th>2</th>\n",
       "      <th>3</th>\n",
       "      <th>4</th>\n",
       "      <th>5</th>\n",
       "      <th>6</th>\n",
       "      <th>7</th>\n",
       "      <th>8</th>\n",
       "      <th>9</th>\n",
       "      <th>10</th>\n",
       "      <th>11</th>\n",
       "      <th>12</th>\n",
       "    </tr>\n",
       "  </thead>\n",
       "  <tbody>\n",
       "    <tr>\n",
       "      <th>Присутств</th>\n",
       "      <td>1</td>\n",
       "      <td>1.0</td>\n",
       "      <td>1.0</td>\n",
       "      <td>1.0</td>\n",
       "      <td>1.0</td>\n",
       "      <td>1.0</td>\n",
       "      <td>1.0</td>\n",
       "      <td>0.0</td>\n",
       "      <td>0.0</td>\n",
       "      <td>0.0</td>\n",
       "      <td>0.0</td>\n",
       "      <td>0.0</td>\n",
       "    </tr>\n",
       "    <tr>\n",
       "      <th>Режим работы</th>\n",
       "      <td>6</td>\n",
       "      <td>6.0</td>\n",
       "      <td>4.0</td>\n",
       "      <td>4.0</td>\n",
       "      <td>2.0</td>\n",
       "      <td>0.0</td>\n",
       "      <td>0.0</td>\n",
       "      <td>0.0</td>\n",
       "      <td>0.0</td>\n",
       "      <td>0.0</td>\n",
       "      <td>0.0</td>\n",
       "      <td>0.0</td>\n",
       "    </tr>\n",
       "    <tr>\n",
       "      <th>Температура</th>\n",
       "      <td>19</td>\n",
       "      <td>18.3</td>\n",
       "      <td>17.5</td>\n",
       "      <td>15.8</td>\n",
       "      <td>14.0</td>\n",
       "      <td>11.4</td>\n",
       "      <td>7.9</td>\n",
       "      <td>4.7</td>\n",
       "      <td>1.6</td>\n",
       "      <td>-1.2</td>\n",
       "      <td>-3.9</td>\n",
       "      <td>-6.3</td>\n",
       "    </tr>\n",
       "  </tbody>\n",
       "</table>\n",
       "</div>"
      ],
      "text/plain": [
       "              1     2     3     4     5     6    7    8    9    10   11   12\n",
       "Присутств      1   1.0   1.0   1.0   1.0   1.0  1.0  0.0  0.0  0.0  0.0  0.0\n",
       "Режим работы   6   6.0   4.0   4.0   2.0   0.0  0.0  0.0  0.0  0.0  0.0  0.0\n",
       "Температура   19  18.3  17.5  15.8  14.0  11.4  7.9  4.7  1.6 -1.2 -3.9 -6.3"
      ]
     },
     "execution_count": 81,
     "metadata": {},
     "output_type": "execute_result"
    }
   ],
   "source": [
    "a = 0.2\n",
    "W_mem = [{} for i in ki]\n",
    "W_best, U, T, T_last = get_solve(a)\n",
    "data = [ki, U, T]\n",
    "df = pd.DataFrame(data, index=['Присутств', 'Режим работы', 'Температура'], columns=[list(range(1, 13))])\n",
    "df"
   ]
  },
  {
   "cell_type": "code",
   "execution_count": 82,
   "id": "9a6903be",
   "metadata": {},
   "outputs": [
    {
     "name": "stdout",
     "output_type": "stream",
     "text": [
      "Коэфициент распределения важности между дискомфортом и стоимостью: 0.2\n",
      "Значение целевой функции: 209.71\n",
      "Стоимость отопления: 148\n",
      "Температура в конце последнего этапа (после 12 часов): -8.7\n"
     ]
    }
   ],
   "source": [
    "price = sum(map(lambda x: c[x], U))\n",
    "print(\"Коэфициент распределения важности между дискомфортом и стоимостью:\", a)\n",
    "print(\"Значение целевой функции:\", W_best)\n",
    "print(\"Стоимость отопления:\", price)\n",
    "print(\"Температура в конце последнего этапа (после 12 часов):\", T_last)"
   ]
  },
  {
   "cell_type": "markdown",
   "id": "a89c8e5f",
   "metadata": {},
   "source": [
    "### Посмотрим графики зависимости от альфа."
   ]
  },
  {
   "cell_type": "code",
   "execution_count": 83,
   "id": "afa647f4",
   "metadata": {},
   "outputs": [
    {
     "data": {
      "image/png": "[encoded data removed]",
      "text/plain": [
       "<Figure size 640x480 with 1 Axes>"
      ]
     },
     "metadata": {},
     "output_type": "display_data"
    }
   ],
   "source": [
    "# Анализ чувствительности:\n",
    "a_list = [i/100 for i in range(1, 101)]\n",
    "W_list, c_list, dis_list = [], [], []\n",
    "for i in a_list:\n",
    "    a = i\n",
    "    W_mem = [{} for i in ki]\n",
    "    W_best, U, T, T_last = get_solve(a)\n",
    "    c_cur = sum(map(lambda x: c[x], U))\n",
    "    W_list.append(W_best)\n",
    "    c_list.append(c_cur)\n",
    "    dis_list.append((W_best - c_cur*(1-a))/a)\n",
    "    \n",
    "plt.plot(a_list, W_list,'r', label='Целевая функция')\n",
    "plt.plot(a_list, c_list, 'g', label='Стоимость')\n",
    "plt.plot(a_list, dis_list, 'b', label='Дискомфорт')\n",
    "plt.title('График зависимости целевой функции, стоимости и дискомфорта\\n от коэффициента важности')\n",
    "plt.xlabel('Alpha')\n",
    "plt.ylabel('Целевая функция')\n",
    "plt.legend()\n",
    "plt.show()"
   ]
  },
  {
   "cell_type": "code",
   "execution_count": null,
   "id": "3c05e794",
   "metadata": {},
   "outputs": [],
   "source": []
  },
  {
   "cell_type": "code",
   "execution_count": null,
   "id": "a5c76802",
   "metadata": {},
   "outputs": [],
   "source": []
  }
 ],
 "metadata": {
  "kernelspec": {
   "display_name": "Python 3 (ipykernel)",
   "language": "python",
   "name": "python3"
  },
  "language_info": {
   "codemirror_mode": {
    "name": "ipython",
    "version": 3
   },
   "file_extension": ".py",
   "mimetype": "text/x-python",
   "name": "python",
   "nbconvert_exporter": "python",
   "pygments_lexer": "ipython3",
   "version": "3.11.7"
  }
 },
 "nbformat": 4,
 "nbformat_minor": 5
}
